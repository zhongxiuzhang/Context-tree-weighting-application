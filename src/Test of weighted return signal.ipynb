{
 "cells": [
  {
   "cell_type": "code",
   "execution_count": 3,
   "metadata": {},
   "outputs": [],
   "source": [
    "import pandas as pd\n",
    "import time\n",
    "import datetime\n",
    "import numpy as np\n",
    "\n",
    "\n",
    "import prob_tree\n",
    "import kTree\n",
    "import csv\n",
    "from fractions import Fraction\n",
    "import graphviz\n",
    "import tree\n",
    "from kTree import ktree_main\n",
    "\n",
    "import sys\n",
    "import generators\n",
    "import numpy as np\n",
    "import math\n",
    "from data import Data\n",
    "from datetime import datetime, timedelta\n",
    "\n",
    "import os\n",
    "import pickle\n",
    "import json\n",
    "\n",
    "\n",
    "data_train1 = pd.read_csv('./input_data/Future/20190620/IH1906.CFFEX.txt',header=0)"
   ]
  },
  {
   "cell_type": "code",
   "execution_count": null,
   "metadata": {},
   "outputs": [],
   "source": [
    "###Read the train data to get the thresholds for classification\n",
    "\n",
    "date_test=20180619\n",
    "freq=1\n",
    "num_train_days=1\n",
    "\n",
    "\n",
    "date_test_d = datetime(year=int(str(date_test)[0:4]), month=int(str(date_test)[4:6]), day=int(str(date_test)[6:8]))\n",
    "date_date =  date_test_d-timedelta(days=1)  \n",
    "date = 10000*date_date.year + 100*date_date.month + date_date.day\n",
    "i = 0\n",
    "return_train=[]\n",
    "\n",
    "while i<num_train_days:\n",
    "    path = './input_data/Future/mid_volume_train_IH_1min_'+str(date)+'.txt'\n",
    "    #path = './input_data/Future/2mid_volume_train_IC_'+str(date)+'.txt'\n",
    "    date_date = datetime(year=int(str(date)[0:4]), month=int(str(date)[4:6]), day=int(str(date)[6:8]))\n",
    "    if os.access(path, os.F_OK):\n",
    "        i += 1  \n",
    "        f = open(path, \"rb\")  \n",
    "        price_train = pickle.load(f)\n",
    "        f.close()\n",
    "        price_index = [x * freq for x in list(range(int(len(price_train)/freq)))]\n",
    "        price_train_ = price_train.iloc[price_index]\n",
    "\n",
    "        price_train_1 = price_train_[:(len(price_train_)-1)]\n",
    "        price_train_2 = price_train_[1:len(price_train_)]\n",
    "        price_train_1.index = price_train_2.index\n",
    "        return_train_ = (price_train_2/price_train_1-1)*100\n",
    "        locals()['return_train'+str(i)] = return_train_.tolist()\n",
    "        return_train.extend(locals()['return_train'+str(i)])\n",
    "    date_date =  date_date-timedelta(days=1) \n",
    "    date = 10000*date_date.year + 100*date_date.month + date_date.day\n",
    "    \n",
    "    \n",
    "return_train_class_total = []\n",
    "thres1 = np.percentile(return_train,25)\n",
    "thres2 = np.percentile(return_train,50)\n",
    "thres3 = np.percentile(return_train,75)\n",
    "for d in return_train:\n",
    "    v = None\n",
    "    if d <= thres1:\n",
    "        v = 0\n",
    "    elif thres1 < d and d <= thres2:\n",
    "        v = 1\n",
    "    elif thres2 < d and d <= thres3:\n",
    "        v = 2\n",
    "    elif d > thres3:\n",
    "        v = 3\n",
    "    return_train_class_total.append(v)\n",
    "\n",
    "# fileObject = open('return_class_train.txt', 'w')\n",
    "# fileObject.write('[')\n",
    "# for ip in return_train_class_total[:-1]:\n",
    "#     ip=str(ip)\n",
    "#     fileObject.write(ip)\n",
    "#     fileObject.write(',')\n",
    "# fileObject.write(str(return_train_class_total[-1]))\n",
    "# fileObject.write(']')\n",
    "# fileObject.close()\n",
    "\n"
   ]
  },
  {
   "cell_type": "code",
   "execution_count": 5,
   "metadata": {},
   "outputs": [],
   "source": [
    "###Read the test data and make classification\n",
    "\n",
    "date_test=20180619\n",
    "freq=1\n",
    "\n",
    "path = './input_data/Future/mid_volume_train_IH_1min_'+str(date_test)+'.txt'\n",
    "#path = './input_data/Future/2mid_volume_train_IC_'+str(date_test)+'.txt'\n",
    "f = open(path, \"rb\")  \n",
    "price_test = pickle.load(f)\n",
    "price_index = [x * freq for x in list(range(int(len(price_test)/freq)))]\n",
    "price_test_ = price_test.iloc[price_index]\n",
    "price_test_1 = price_test_[:(len(price_test_)-1)]\n",
    "price_test_2 = price_test_[1:len(price_test_)]\n",
    "price_test_1.index = price_test_2.index\n",
    "return_test = (price_test_2/price_test_1-1)*100\n",
    "price_test_1=price_test_1.tolist()\n",
    "return_test = return_test.tolist()\n",
    "\n",
    "return_test_class_total = []\n",
    "\n",
    "for d in return_test:\n",
    "    v = None\n",
    "    if d <= thres1:\n",
    "        v = 0\n",
    "    elif thres1 < d and d <= thres2:\n",
    "        v = 1\n",
    "    elif thres2 < d and d <= thres3:\n",
    "        v = 2\n",
    "    elif d > thres3:\n",
    "        v = 3\n",
    "    return_test_class_total.append(v)\n",
    "\n",
    "return_test_class_input = return_test_class_total[(10-10):]\n",
    "return_test_class_real = return_test_class_total[10:]\n",
    "return_test_real = return_test[10:]\n",
    "price_test_real = price_test_1[10:]"
   ]
  },
  {
   "cell_type": "code",
   "execution_count": 5,
   "metadata": {},
   "outputs": [
    {
     "data": {
      "text/plain": [
       "28800"
      ]
     },
     "execution_count": 5,
     "metadata": {},
     "output_type": "execute_result"
    }
   ],
   "source": [
    "len(return_test)"
   ]
  },
  {
   "cell_type": "code",
   "execution_count": 245,
   "metadata": {},
   "outputs": [],
   "source": [
    "###Mean reverting strategy using weighted return as signal\n",
    "\n",
    "portf_value = []\n",
    "portf_value.append(1.)\n",
    "pt_value=0.\n",
    "len_test= len(return_test)\n",
    "pos0=0\n",
    "pos1=0\n",
    "poscum=0\n",
    "maxpos=5\n",
    "pos=[]\n",
    "beta=10\n",
    "correct=0\n",
    "num_zero=0\n",
    "#profit=[]\n",
    "for i in range(10,len_test-1): #4788-1\n",
    "    signal=10*return_test[i]+9*return_test[i-1]+8*return_test[i-2]+7*return_test[i-3]+\\\n",
    "    6*return_test[i-4]+5*return_test[i-5]+4*return_test[i-6]+3*return_test[i-7]+\\\n",
    "    2*return_test[i-8]+1*return_test[i-9]\n",
    "    #print(signal)\n",
    "    if(signal>0):\n",
    "        pos1=-1\n",
    "        #pos1=beta*signal\n",
    "        pos.append(pos1)\n",
    "        pt_value = pt_value+pos1*price_test_1[i+1]*return_test[i+1]/100\n",
    "        #print([+1,return_test_class_predicted_one[i+1],price_test_1[-len_test+1+i]*return_test[-len_test+1+i]/100,price_test_1[-len_test+1+i],return_test[-len_test+1+i]/100])\n",
    "        if(return_test[i+1]<0): correct+=1\n",
    "    elif(signal<0):\n",
    "        pos1=1\n",
    "        #pos1=beta*signal\n",
    "        pos.append(pos1)\n",
    "        pt_value = pt_value+pos1*price_test_1[i+1]*return_test[-len_test+1+i]/100            \n",
    "        #print([-1,return_test_class_predicted_one[i+1],-price_test_1[-len_test+1+i]*return_test[-len_test+1+i]/100,price_test_1[-len_test+1+i],return_test[-len_test+1+i]/100])\n",
    "        if(return_test[i+1]>0): correct+=1\n",
    "    if(return_test[i+1]==0):num_zero+=1\n",
    "            \n",
    "    #profit.append(abs(price_test_1[-len_test+1+i]*return_test[-len_test+1+i]/100))  \n",
    "    poscum=poscum+abs(pos1-pos0)\n",
    "    #print(poscum)\n",
    "    pos0=pos1\n",
    "    portf_value.append(pt_value)"
   ]
  },
  {
   "cell_type": "code",
   "execution_count": 21,
   "metadata": {},
   "outputs": [],
   "source": [
    "###Mean reverting strategy using weighted return as signal (strategy with threshold):\n",
    "\n",
    "portf_value = []\n",
    "portf_value.append(1.)\n",
    "pt_value=0.\n",
    "len_test= len(return_test)\n",
    "pos0=0\n",
    "pos1=0\n",
    "poscum=0\n",
    "maxpos=5\n",
    "pos=[]\n",
    "beta=10\n",
    "correct=0\n",
    "num_zero=0\n",
    "signal_list=[]\n",
    "count=0\n",
    "N_quantile=200\n",
    "p1=99\n",
    "p2=1\n",
    "#profit=[]\n",
    "for i in range(10,N_quantile+10-1): #4788-1\n",
    "    signal=10*return_test[i]+9*return_test[i-1]+8*return_test[i-2]+7*return_test[i-3]+\\\n",
    "    6*return_test[i-4]+5*return_test[i-5]+4*return_test[i-6]+3*return_test[i-7]+\\\n",
    "    2*return_test[i-8]+1*return_test[i-9]\n",
    "    signal_list.append(signal)\n",
    "    \n",
    "for i in range(N_quantile+10-1,len_test-1): #4788-1\n",
    "    signal=10*return_test[i]+9*return_test[i-1]+8*return_test[i-2]+7*return_test[i-3]+\\\n",
    "    6*return_test[i-4]+5*return_test[i-5]+4*return_test[i-6]+3*return_test[i-7]+\\\n",
    "    2*return_test[i-8]+1*return_test[i-9]\n",
    "    #print(signal)\n",
    "    if(signal>np.percentile(signal_list[(-200):(-1)],p1)):\n",
    "        pos1=-1\n",
    "        #pos1=-beta*signal\n",
    "        pos.append(pos1)\n",
    "        pt_value = pt_value+pos1*price_test_1[i+1]*return_test[i+1]/100\n",
    "        #print([+1,return_test_class_predicted_one[i+1],price_test_1[-len_test+1+i]*return_test[-len_test+1+i]/100,price_test_1[-len_test+1+i],return_test[-len_test+1+i]/100])\n",
    "        if(return_test[i+1]<0): correct+=1\n",
    "        count+=1\n",
    "        if(return_test[i+1]==0):num_zero+=1\n",
    "    elif(signal<np.percentile(signal_list[(-200):(-1)],p2)):\n",
    "        pos1=1\n",
    "        #pos1=-beta*signal\n",
    "        pos.append(pos1)\n",
    "        pt_value = pt_value+pos1*price_test_1[i+1]*return_test[-len_test+1+i]/100            \n",
    "        #print([-1,return_test_class_predicted_one[i+1],-price_test_1[-len_test+1+i]*return_test[-len_test+1+i]/100,price_test_1[-len_test+1+i],return_test[-len_test+1+i]/100])\n",
    "        if(return_test[i+1]>0): correct+=1\n",
    "        count+=1\n",
    "        if(return_test[i+1]==0):num_zero+=1\n",
    "    else:\n",
    "        pos1=0\n",
    "        pos.append(pos1)\n",
    "\n",
    "#     else:\n",
    "#         pos1=pos0\n",
    "#         pos.append(pos1)\n",
    "#         pt_value = pt_value+pos1*price_test_1[i+1]*return_test[-len_test+1+i]/100 \n",
    "#         if(np.sign(signal)==np.sign(return_test[i+1])):correct+=1\n",
    "#         count+=1\n",
    "#         if(return_test[i+1]==0):num_zero+=1\n",
    "\n",
    "\n",
    "    \n",
    "    #profit.append(abs(price_test_1[-len_test+1+i]*return_test[-len_test+1+i]/100))  \n",
    "    poscum=poscum+abs(pos1-pos0)\n",
    "    #print(poscum)\n",
    "    pos0=pos1\n",
    "    signal_list.append(signal)\n",
    "    portf_value.append(pt_value)\n",
    "    \n",
    "    #print([pos1,price_test_1[i+1],return_test[-len_test+1+i],poscum,pos1*price_test_1[i+1]*return_test[-len_test+1+i]/100,pt_value])\n",
    "\n"
   ]
  },
  {
   "cell_type": "code",
   "execution_count": 22,
   "metadata": {},
   "outputs": [
    {
     "name": "stdout",
     "output_type": "stream",
     "text": [
      "621\n",
      "0.6349693251533742\n"
     ]
    },
    {
     "data": {
      "text/plain": [
       "1147"
      ]
     },
     "execution_count": 22,
     "metadata": {},
     "output_type": "execute_result"
    }
   ],
   "source": [
    "print(correct)\n",
    "correct/(len(portf_value)-num_zero)\n",
    "print(correct/(count-num_zero))\n",
    "count"
   ]
  },
  {
   "cell_type": "code",
   "execution_count": 24,
   "metadata": {},
   "outputs": [
    {
     "data": {
      "text/plain": [
       "<Figure size 432x288 with 0 Axes>"
      ]
     },
     "execution_count": 24,
     "metadata": {},
     "output_type": "execute_result"
    },
    {
     "data": {
      "image/png": "[encoded data removed]",
      "text/plain": [
       "<Figure size 432x288 with 1 Axes>"
      ]
     },
     "metadata": {
      "needs_background": "light"
     },
     "output_type": "display_data"
    },
    {
     "data": {
      "text/plain": [
       "<Figure size 432x288 with 0 Axes>"
      ]
     },
     "metadata": {},
     "output_type": "display_data"
    }
   ],
   "source": [
    "import matplotlib.pyplot as plt\n",
    "plt.plot(portf_value)\n",
    "plt.xlabel('t')\n",
    "plt.ylabel('pnl')\n",
    "name=\"pnl_IH_\"+str(date_test)+'_500ms_'+str(p2)+'_'+str(p1)+'_2_2'\n",
    "plt.title(name)\n",
    "#plt.savefig(name+\".png\")\n",
    "plt.figure()"
   ]
  },
  {
   "cell_type": "code",
   "execution_count": 37,
   "metadata": {},
   "outputs": [
    {
     "data": {
      "text/plain": [
       "<Figure size 432x288 with 0 Axes>"
      ]
     },
     "execution_count": 37,
     "metadata": {},
     "output_type": "execute_result"
    },
    {
     "data": {
      "image/png": "[encoded data removed]",
      "text/plain": [
       "<Figure size 432x288 with 1 Axes>"
      ]
     },
     "metadata": {
      "needs_background": "light"
     },
     "output_type": "display_data"
    },
    {
     "data": {
      "text/plain": [
       "<Figure size 432x288 with 0 Axes>"
      ]
     },
     "metadata": {},
     "output_type": "display_data"
    }
   ],
   "source": [
    "plt.plot(pos)\n",
    "#plt.plot(range(24000,26000),pos[24000:26000])\n",
    "plt.xlabel('t')\n",
    "plt.ylabel('position')\n",
    "name=\"position_IH_\"+str(date_test)\n",
    "plt.title(name)\n",
    "#plt.savefig(name+\".png\")\n",
    "plt.figure()"
   ]
  }
 ],
 "metadata": {
  "kernelspec": {
   "display_name": "Python 3",
   "language": "python",
   "name": "python3"
  },
  "language_info": {
   "codemirror_mode": {
    "name": "ipython",
    "version": 3
   },
   "file_extension": ".py",
   "mimetype": "text/x-python",
   "name": "python",
   "nbconvert_exporter": "python",
   "pygments_lexer": "ipython3",
   "version": "3.7.3"
  }
 },
 "nbformat": 4,
 "nbformat_minor": 2
}
